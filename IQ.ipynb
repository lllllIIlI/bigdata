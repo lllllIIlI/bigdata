{
  "nbformat": 4,
  "nbformat_minor": 0,
  "metadata": {
    "colab": {
      "provenance": []
    },
    "kernelspec": {
      "name": "python3",
      "display_name": "Python 3"
    },
    "language_info": {
      "name": "python"
    }
  },
  "cells": [
    {
      "cell_type": "code",
      "execution_count": null,
      "metadata": {
        "id": "a-1gbuohNUZ9"
      },
      "outputs": [],
      "source": [
        "import pandas as pd\n",
        "import numpy as np\n",
        "import matplotlib.pyplot as plt\n",
        "import seaborn as sns\n",
        "import plotly.express as px\n",
        "\n",
        "df1 = pd.read_csv('avgIQpercountry.csv')\n",
        "df2 = pd.read_csv('IQ_level.csv')\n",
        "df3 = pd.read_csv('quality_of_life.csv')\n",
        "df2.drop(['IQ'], axis=1, inplace=True)\n",
        "df4 = pd.merge(df1, df2, how='left', left_on='Country', right_on='country')\n",
        "df5 = pd.merge(df4, df3, how='left', on='country')\n",
        "df5.drop(['popularity', 'Continent', 'country', 'climate', 'costs', 'rank'],\n",
        "         axis=1, inplace=True)\n",
        "df5.rename(columns = {'HDI (2021)' : 'HDI', 'Average IQ' : 'IQ',\n",
        "                      'Mean years of schooling - 2021' : 'Mean years of schooling',\n",
        "                      ' GNI - 2021' : 'GNI', 'Population - 2023' : 'Population',\n",
        "                      'education_expenditure' : 'education expenditure'}, inplace = True)\n",
        "df5.set_index('Rank', inplace=True)\n",
        "\n",
        "# print(df5.isnull().sum())\n",
        "df5['HDI'].interpolate(method='values', inplace=True)\n",
        "df5['Mean years of schooling'].interpolate(method='values', inplace=True)\n",
        "df5['GNI'].interpolate(method='values', inplace=True)\n",
        "df5['education expenditure'].interpolate(method='values', inplace=True)\n",
        "df5['avg_income'].interpolate(method='values', inplace=True)\n",
        "df5['avg_temp'].interpolate(method='values', inplace=True)\n",
        "df5['stability'].interpolate(method='values', inplace=True)\n",
        "df5['rights'].interpolate(method='values', inplace=True)\n",
        "df5['health'].interpolate(method='values', inplace=True)\n",
        "df5['safety'].interpolate(method='values', inplace=True)\n",
        "# print(df5)\n",
        "# print(df5.isnull().sum())"
      ]
    },
    {
      "cell_type": "code",
      "source": [
        "# 히트맵\n",
        "plt.figure(figsize=(10,10))\n",
        "sns.heatmap(df5.corr(), linewidths=0.1, cmap='coolwarm', linecolor='white', annot=True)\n",
        "plt.show()\n",
        "# -> IQ와 상관관계가 0.6 이상인 열\n",
        "#    = Literacy Rate, HDI, Mean year of schooling, GNI,avg_income, rights, health"
      ],
      "metadata": {
        "id": "MslBQzOo485K"
      },
      "execution_count": null,
      "outputs": []
    },
    {
      "cell_type": "code",
      "source": [
        "# 상관관계가 낮은 열 제거 (평균 기온)\n",
        "df5.drop(['avg_temp'], axis=1, inplace=True)"
      ],
      "metadata": {
        "id": "YbIy9A_rybEB"
      },
      "execution_count": null,
      "outputs": []
    },
    {
      "cell_type": "code",
      "source": [
        "plt.figure(figsize=(10,10))\n",
        "sns.heatmap(df5.corr(), linewidths=0.1, cmap='coolwarm', linecolor='white', annot=True)\n",
        "plt.show()"
      ],
      "metadata": {
        "id": "LjZwLiXkkZQM"
      },
      "execution_count": null,
      "outputs": []
    },
    {
      "cell_type": "code",
      "source": [
        "# -> Novel Prices은 환경적 요인들과 관련X"
      ],
      "metadata": {
        "id": "brwfiILm0LuN"
      },
      "execution_count": null,
      "outputs": []
    },
    {
      "cell_type": "code",
      "source": [
        "heatmap_result = df5.corr()['IQ'].tolist()\n",
        "heatmap_result.pop(0)\n",
        "print(heatmap_result)"
      ],
      "metadata": {
        "id": "wSmNNF6FRQW8"
      },
      "execution_count": null,
      "outputs": []
    },
    {
      "cell_type": "code",
      "source": [
        "# IQ - Literacy Rate\n",
        "fig = px.scatter(df5, x='IQ', y='Literacy Rate', size='Population')\n",
        "fig.update_layout(width=800)"
      ],
      "metadata": {
        "id": "NH0Iw7a05Btf"
      },
      "execution_count": null,
      "outputs": []
    },
    {
      "cell_type": "code",
      "source": [
        "# IQ - HDI(인간개발지수 - 선진화 정도)\n",
        "# IQ - Mean years of schooling (평균 교육 기간 - HDI 측정 지표 중 하나)\n",
        "# IQ - Literacy Rate\n",
        "\n",
        "fig = plt.figure(figsize=(40,10))\n",
        "ax1 = fig.add_subplot(1,3,1)\n",
        "ax2 = fig.add_subplot(1,3,2)\n",
        "ax3 = fig.add_subplot(1,3,3)\n",
        "\n",
        "sns.lineplot(data=df5, x ='IQ', y='HDI', ax=ax1)\n",
        "sns.lineplot(data=df5, x = 'IQ', y='Mean years of schooling', ax=ax2)\n",
        "sns.lineplot(data = df5, x = 'IQ', y = 'Literacy Rate', ax = ax3)"
      ],
      "metadata": {
        "id": "ACY2qwdV5KJf"
      },
      "execution_count": null,
      "outputs": []
    },
    {
      "cell_type": "code",
      "source": [
        "# IQ - education expenditure (평균 교육 지출 비용($)))\n",
        "# IQ - avg_income (평균 소득($))\n",
        "# IQ - GNI (국민총소득 - 국가의 경제적 활동 수준, 국민 소득 수준)\n",
        "fig = plt.figure(figsize=(40,10))\n",
        "ax1 = fig.add_subplot(1,3,1)\n",
        "ax2 = fig.add_subplot(1,3,2)\n",
        "ax3 = fig.add_subplot(1,3,3)\n",
        "\n",
        "sns.lineplot(data=df5, x ='IQ', y='education expenditure', ax=ax1)\n",
        "sns.lineplot(data=df5, x = 'IQ', y='avg_income', ax=ax2)\n",
        "sns.lineplot(data=df5, x ='IQ', y='GNI', ax=ax3)"
      ],
      "metadata": {
        "id": "Gh5AdPTHTGke"
      },
      "execution_count": null,
      "outputs": []
    },
    {
      "cell_type": "code",
      "source": [
        "# 파이차트 데이터 정리\n",
        "plt.figure(figsize=(8, 8))\n",
        "labels = df5.columns.tolist()\n",
        "labels.pop(0)\n",
        "labels.pop(0)\n",
        "result_dict = dict(zip(labels, heatmap_result))\n",
        "result_dict = dict(sorted(result_dict.items(), key=lambda x: x[1], reverse=True))\n",
        "\n",
        "HDI = sum(value for key, value in result_dict.items() if key in list(['HDI','Mean years of schooling']))\n",
        "del result_dict['Mean years of schooling']\n",
        "result_dict['HDI'] = HDI\n",
        "\n",
        "GNI = sum(value for key, value in result_dict.items() if key in list(['education expenditure','avg_income', 'GNI']))\n",
        "del result_dict['education expenditure']\n",
        "del result_dict['avg_income']\n",
        "result_dict['GNI'] = GNI\n",
        "\n",
        "result_dict = dict(sorted(result_dict.items(), key=lambda x: x[1], reverse=True))\n",
        "\n",
        "threshold = -3\n",
        "etc = sum(value for key, value in result_dict.items() if key in list(result_dict.keys())[threshold:])\n",
        "keys_to_delete = list(result_dict.keys())[threshold:]\n",
        "for key in keys_to_delete:\n",
        "    del result_dict[key]\n",
        "result_dict['etc'] = etc\n",
        "#print(labels)"
      ],
      "metadata": {
        "id": "8JY8hibTB-oK"
      },
      "execution_count": null,
      "outputs": []
    },
    {
      "cell_type": "code",
      "source": [
        "print(result_dict)"
      ],
      "metadata": {
        "id": "1kp4IGd1u6Ay"
      },
      "execution_count": null,
      "outputs": []
    },
    {
      "cell_type": "code",
      "source": [
        "wed={\"width\": 2.0}\n",
        "plt.pie(result_dict.values(), labels=result_dict.keys(), autopct='%1.1f%%', wedgeprops=wed, startangle=90, colors=sns.color_palette('Paired'),radius = 4.0, counterclock=False)\n",
        "plt.title('The environmental factors\\n determining IQ', loc='center')\n",
        "plt.legend(loc = 'center')\n",
        "plt.rcParams['font.size'] = 14\n",
        "plt.show()"
      ],
      "metadata": {
        "id": "AsOu5R_saaVd"
      },
      "execution_count": null,
      "outputs": []
    }
  ]
}